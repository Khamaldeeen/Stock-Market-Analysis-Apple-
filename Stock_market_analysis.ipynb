{
  "nbformat": 4,
  "nbformat_minor": 0,
  "metadata": {
    "colab": {
      "name": "Stock_market_analysis",
      "provenance": [],
      "authorship_tag": "ABX9TyNBgQZRXQto29qdRFlRMK+g",
      "include_colab_link": true
    },
    "kernelspec": {
      "name": "python3",
      "display_name": "Python 3"
    }
  },
  "cells": [
    {
      "cell_type": "markdown",
      "metadata": {
        "id": "view-in-github",
        "colab_type": "text"
      },
      "source": [
        "<a href=\"https://colab.research.google.com/github/Khamaldeeen/Stock-Market-Analysis-Apple-/blob/Analytics0.1/Stock_market_analysis.ipynb\" target=\"_parent\"><img src=\"https://colab.research.google.com/assets/colab-badge.svg\" alt=\"Open In Colab\"/></a>"
      ]
    },
    {
      "cell_type": "code",
      "metadata": {
        "id": "RBBOjewmNjX8",
        "colab_type": "code",
        "colab": {}
      },
      "source": [
        "import numpy as np\n",
        "import pandas as pd\n",
        "from pandas import Series, DataFrame"
      ],
      "execution_count": 0,
      "outputs": []
    },
    {
      "cell_type": "code",
      "metadata": {
        "id": "SUYENfaqOswW",
        "colab_type": "code",
        "outputId": "61f65f3f-a95a-443c-e648-41b91b85827a",
        "colab": {
          "base_uri": "https://localhost:8080/",
          "height": 71
        }
      },
      "source": [
        "import matplotlib.pyplot as plt\n",
        "import seaborn as sns\n",
        "%matplotlib inline "
      ],
      "execution_count": 0,
      "outputs": [
        {
          "output_type": "stream",
          "text": [
            "/usr/local/lib/python3.6/dist-packages/statsmodels/tools/_testing.py:19: FutureWarning: pandas.util.testing is deprecated. Use the functions in the public API at pandas.testing instead.\n",
            "  import pandas.util.testing as tm\n"
          ],
          "name": "stderr"
        }
      ]
    },
    {
      "cell_type": "code",
      "metadata": {
        "id": "SkpTTDlGPHAp",
        "colab_type": "code",
        "colab": {}
      },
      "source": [
        "from pandas_datareader import DataReader"
      ],
      "execution_count": 0,
      "outputs": []
    },
    {
      "cell_type": "code",
      "metadata": {
        "id": "Rl0_9pCyPvOr",
        "colab_type": "code",
        "colab": {}
      },
      "source": [
        "from datetime import datetime"
      ],
      "execution_count": 0,
      "outputs": []
    },
    {
      "cell_type": "code",
      "metadata": {
        "id": "aYbq0qpfQj8x",
        "colab_type": "code",
        "colab": {
          "base_uri": "https://localhost:8080/",
          "height": 34
        },
        "outputId": "62974c86-660a-4745-9c46-ea791f0fdc93"
      },
      "source": [
        "np.arange(10)"
      ],
      "execution_count": 5,
      "outputs": [
        {
          "output_type": "execute_result",
          "data": {
            "text/plain": [
              "array([0, 1, 2, 3, 4, 5, 6, 7, 8, 9])"
            ]
          },
          "metadata": {
            "tags": []
          },
          "execution_count": 5
        }
      ]
    },
    {
      "cell_type": "code",
      "metadata": {
        "id": "VuHaSCO1QpMu",
        "colab_type": "code",
        "colab": {}
      },
      "source": [
        "comp_list = ['AAPL','GOOG', 'AMZN', 'MSFT' ]"
      ],
      "execution_count": 0,
      "outputs": []
    },
    {
      "cell_type": "code",
      "metadata": {
        "id": "cFYcittuQ3Oy",
        "colab_type": "code",
        "colab": {}
      },
      "source": [
        "end_date = datetime.today()\n",
        "\n",
        "start = datetime(end_date.year-1, end_date.month, end_date.day)"
      ],
      "execution_count": 0,
      "outputs": []
    },
    {
      "cell_type": "code",
      "metadata": {
        "id": "G7j0RFsaR4__",
        "colab_type": "code",
        "colab": {}
      },
      "source": [
        "for item in comp_list:\n",
        "  globals()[item] = DataReader(item, 'yahoo', start, end_date)"
      ],
      "execution_count": 0,
      "outputs": []
    },
    {
      "cell_type": "code",
      "metadata": {
        "id": "EoNLZR9NSfkT",
        "colab_type": "code",
        "colab": {
          "base_uri": "https://localhost:8080/",
          "height": 450
        },
        "outputId": "fcc22ca3-9c60-4ad3-aed6-290f2893dfaf"
      },
      "source": [
        "AAPL"
      ],
      "execution_count": 11,
      "outputs": [
        {
          "output_type": "execute_result",
          "data": {
            "text/html": [
              "<div>\n",
              "<style scoped>\n",
              "    .dataframe tbody tr th:only-of-type {\n",
              "        vertical-align: middle;\n",
              "    }\n",
              "\n",
              "    .dataframe tbody tr th {\n",
              "        vertical-align: top;\n",
              "    }\n",
              "\n",
              "    .dataframe thead th {\n",
              "        text-align: right;\n",
              "    }\n",
              "</style>\n",
              "<table border=\"1\" class=\"dataframe\">\n",
              "  <thead>\n",
              "    <tr style=\"text-align: right;\">\n",
              "      <th></th>\n",
              "      <th>High</th>\n",
              "      <th>Low</th>\n",
              "      <th>Open</th>\n",
              "      <th>Close</th>\n",
              "      <th>Volume</th>\n",
              "      <th>Adj Close</th>\n",
              "    </tr>\n",
              "    <tr>\n",
              "      <th>Date</th>\n",
              "      <th></th>\n",
              "      <th></th>\n",
              "      <th></th>\n",
              "      <th></th>\n",
              "      <th></th>\n",
              "      <th></th>\n",
              "    </tr>\n",
              "  </thead>\n",
              "  <tbody>\n",
              "    <tr>\n",
              "      <th>2019-04-15</th>\n",
              "      <td>199.850006</td>\n",
              "      <td>198.009995</td>\n",
              "      <td>198.580002</td>\n",
              "      <td>199.229996</td>\n",
              "      <td>17536600.0</td>\n",
              "      <td>196.655960</td>\n",
              "    </tr>\n",
              "    <tr>\n",
              "      <th>2019-04-16</th>\n",
              "      <td>201.369995</td>\n",
              "      <td>198.559998</td>\n",
              "      <td>199.460007</td>\n",
              "      <td>199.250000</td>\n",
              "      <td>25696400.0</td>\n",
              "      <td>196.675705</td>\n",
              "    </tr>\n",
              "    <tr>\n",
              "      <th>2019-04-17</th>\n",
              "      <td>203.380005</td>\n",
              "      <td>198.610001</td>\n",
              "      <td>199.539993</td>\n",
              "      <td>203.130005</td>\n",
              "      <td>28906800.0</td>\n",
              "      <td>200.505585</td>\n",
              "    </tr>\n",
              "    <tr>\n",
              "      <th>2019-04-18</th>\n",
              "      <td>204.149994</td>\n",
              "      <td>202.520004</td>\n",
              "      <td>203.119995</td>\n",
              "      <td>203.860001</td>\n",
              "      <td>24195800.0</td>\n",
              "      <td>201.226151</td>\n",
              "    </tr>\n",
              "    <tr>\n",
              "      <th>2019-04-22</th>\n",
              "      <td>204.940002</td>\n",
              "      <td>202.339996</td>\n",
              "      <td>202.830002</td>\n",
              "      <td>204.529999</td>\n",
              "      <td>19439500.0</td>\n",
              "      <td>201.887497</td>\n",
              "    </tr>\n",
              "    <tr>\n",
              "      <th>...</th>\n",
              "      <td>...</td>\n",
              "      <td>...</td>\n",
              "      <td>...</td>\n",
              "      <td>...</td>\n",
              "      <td>...</td>\n",
              "      <td>...</td>\n",
              "    </tr>\n",
              "    <tr>\n",
              "      <th>2020-04-07</th>\n",
              "      <td>271.700012</td>\n",
              "      <td>259.000000</td>\n",
              "      <td>270.799988</td>\n",
              "      <td>259.429993</td>\n",
              "      <td>50721800.0</td>\n",
              "      <td>259.429993</td>\n",
              "    </tr>\n",
              "    <tr>\n",
              "      <th>2020-04-08</th>\n",
              "      <td>267.369995</td>\n",
              "      <td>261.230011</td>\n",
              "      <td>262.739990</td>\n",
              "      <td>266.070007</td>\n",
              "      <td>42223800.0</td>\n",
              "      <td>266.070007</td>\n",
              "    </tr>\n",
              "    <tr>\n",
              "      <th>2020-04-09</th>\n",
              "      <td>270.070007</td>\n",
              "      <td>264.700012</td>\n",
              "      <td>268.700012</td>\n",
              "      <td>267.989990</td>\n",
              "      <td>40529100.0</td>\n",
              "      <td>267.989990</td>\n",
              "    </tr>\n",
              "    <tr>\n",
              "      <th>2020-04-13</th>\n",
              "      <td>273.700012</td>\n",
              "      <td>265.829987</td>\n",
              "      <td>268.309998</td>\n",
              "      <td>273.250000</td>\n",
              "      <td>32755700.0</td>\n",
              "      <td>273.250000</td>\n",
              "    </tr>\n",
              "    <tr>\n",
              "      <th>2020-04-14</th>\n",
              "      <td>288.250000</td>\n",
              "      <td>278.049988</td>\n",
              "      <td>280.000000</td>\n",
              "      <td>287.049988</td>\n",
              "      <td>48612900.0</td>\n",
              "      <td>287.049988</td>\n",
              "    </tr>\n",
              "  </tbody>\n",
              "</table>\n",
              "<p>252 rows × 6 columns</p>\n",
              "</div>"
            ],
            "text/plain": [
              "                  High         Low  ...      Volume   Adj Close\n",
              "Date                                ...                        \n",
              "2019-04-15  199.850006  198.009995  ...  17536600.0  196.655960\n",
              "2019-04-16  201.369995  198.559998  ...  25696400.0  196.675705\n",
              "2019-04-17  203.380005  198.610001  ...  28906800.0  200.505585\n",
              "2019-04-18  204.149994  202.520004  ...  24195800.0  201.226151\n",
              "2019-04-22  204.940002  202.339996  ...  19439500.0  201.887497\n",
              "...                ...         ...  ...         ...         ...\n",
              "2020-04-07  271.700012  259.000000  ...  50721800.0  259.429993\n",
              "2020-04-08  267.369995  261.230011  ...  42223800.0  266.070007\n",
              "2020-04-09  270.070007  264.700012  ...  40529100.0  267.989990\n",
              "2020-04-13  273.700012  265.829987  ...  32755700.0  273.250000\n",
              "2020-04-14  288.250000  278.049988  ...  48612900.0  287.049988\n",
              "\n",
              "[252 rows x 6 columns]"
            ]
          },
          "metadata": {
            "tags": []
          },
          "execution_count": 11
        }
      ]
    },
    {
      "cell_type": "code",
      "metadata": {
        "id": "-tZnM6YcTInn",
        "colab_type": "code",
        "colab": {
          "base_uri": "https://localhost:8080/",
          "height": 297
        },
        "outputId": "77dc8252-0ae1-417f-b565-3e2e48e50718"
      },
      "source": [
        "AAPL.describe()"
      ],
      "execution_count": 12,
      "outputs": [
        {
          "output_type": "execute_result",
          "data": {
            "text/html": [
              "<div>\n",
              "<style scoped>\n",
              "    .dataframe tbody tr th:only-of-type {\n",
              "        vertical-align: middle;\n",
              "    }\n",
              "\n",
              "    .dataframe tbody tr th {\n",
              "        vertical-align: top;\n",
              "    }\n",
              "\n",
              "    .dataframe thead th {\n",
              "        text-align: right;\n",
              "    }\n",
              "</style>\n",
              "<table border=\"1\" class=\"dataframe\">\n",
              "  <thead>\n",
              "    <tr style=\"text-align: right;\">\n",
              "      <th></th>\n",
              "      <th>High</th>\n",
              "      <th>Low</th>\n",
              "      <th>Open</th>\n",
              "      <th>Close</th>\n",
              "      <th>Volume</th>\n",
              "      <th>Adj Close</th>\n",
              "    </tr>\n",
              "  </thead>\n",
              "  <tbody>\n",
              "    <tr>\n",
              "      <th>count</th>\n",
              "      <td>252.000000</td>\n",
              "      <td>252.000000</td>\n",
              "      <td>252.000000</td>\n",
              "      <td>252.000000</td>\n",
              "      <td>2.520000e+02</td>\n",
              "      <td>252.000000</td>\n",
              "    </tr>\n",
              "    <tr>\n",
              "      <th>mean</th>\n",
              "      <td>243.490952</td>\n",
              "      <td>238.106508</td>\n",
              "      <td>240.458928</td>\n",
              "      <td>241.037023</td>\n",
              "      <td>3.297828e+07</td>\n",
              "      <td>239.934111</td>\n",
              "    </tr>\n",
              "    <tr>\n",
              "      <th>std</th>\n",
              "      <td>43.302501</td>\n",
              "      <td>42.022817</td>\n",
              "      <td>42.526421</td>\n",
              "      <td>42.898025</td>\n",
              "      <td>1.737181e+07</td>\n",
              "      <td>43.449353</td>\n",
              "    </tr>\n",
              "    <tr>\n",
              "      <th>min</th>\n",
              "      <td>177.919998</td>\n",
              "      <td>170.270004</td>\n",
              "      <td>175.440002</td>\n",
              "      <td>173.300003</td>\n",
              "      <td>1.136200e+07</td>\n",
              "      <td>171.719727</td>\n",
              "    </tr>\n",
              "    <tr>\n",
              "      <th>25%</th>\n",
              "      <td>205.877502</td>\n",
              "      <td>202.572498</td>\n",
              "      <td>204.037502</td>\n",
              "      <td>204.212498</td>\n",
              "      <td>2.163890e+07</td>\n",
              "      <td>201.946720</td>\n",
              "    </tr>\n",
              "    <tr>\n",
              "      <th>50%</th>\n",
              "      <td>232.840004</td>\n",
              "      <td>227.650002</td>\n",
              "      <td>230.514999</td>\n",
              "      <td>229.665001</td>\n",
              "      <td>2.731305e+07</td>\n",
              "      <td>229.049065</td>\n",
              "    </tr>\n",
              "    <tr>\n",
              "      <th>75%</th>\n",
              "      <td>272.845001</td>\n",
              "      <td>265.869987</td>\n",
              "      <td>268.625008</td>\n",
              "      <td>270.942490</td>\n",
              "      <td>3.659412e+07</td>\n",
              "      <td>270.300995</td>\n",
              "    </tr>\n",
              "    <tr>\n",
              "      <th>max</th>\n",
              "      <td>327.850006</td>\n",
              "      <td>323.350006</td>\n",
              "      <td>324.739990</td>\n",
              "      <td>327.200012</td>\n",
              "      <td>1.067212e+08</td>\n",
              "      <td>327.200012</td>\n",
              "    </tr>\n",
              "  </tbody>\n",
              "</table>\n",
              "</div>"
            ],
            "text/plain": [
              "             High         Low        Open       Close        Volume   Adj Close\n",
              "count  252.000000  252.000000  252.000000  252.000000  2.520000e+02  252.000000\n",
              "mean   243.490952  238.106508  240.458928  241.037023  3.297828e+07  239.934111\n",
              "std     43.302501   42.022817   42.526421   42.898025  1.737181e+07   43.449353\n",
              "min    177.919998  170.270004  175.440002  173.300003  1.136200e+07  171.719727\n",
              "25%    205.877502  202.572498  204.037502  204.212498  2.163890e+07  201.946720\n",
              "50%    232.840004  227.650002  230.514999  229.665001  2.731305e+07  229.049065\n",
              "75%    272.845001  265.869987  268.625008  270.942490  3.659412e+07  270.300995\n",
              "max    327.850006  323.350006  324.739990  327.200012  1.067212e+08  327.200012"
            ]
          },
          "metadata": {
            "tags": []
          },
          "execution_count": 12
        }
      ]
    },
    {
      "cell_type": "code",
      "metadata": {
        "id": "AxmvhyRxVmio",
        "colab_type": "code",
        "colab": {}
      },
      "source": [
        "sns.set_style('whitegrid')"
      ],
      "execution_count": 0,
      "outputs": []
    },
    {
      "cell_type": "code",
      "metadata": {
        "id": "WQtJNQ_dTg6D",
        "colab_type": "code",
        "colab": {
          "base_uri": "https://localhost:8080/",
          "height": 294
        },
        "outputId": "6c876d1d-4fca-4b4a-b138-07a43ec9b044"
      },
      "source": [
        "#Plotting the performance of the adj close as against the date is given below\n",
        "AAPL['Adj Close'].plot(legend=True, figsize=(10,4))"
      ],
      "execution_count": 19,
      "outputs": [
        {
          "output_type": "execute_result",
          "data": {
            "text/plain": [
              "<matplotlib.axes._subplots.AxesSubplot at 0x7f176c770ba8>"
            ]
          },
          "metadata": {
            "tags": []
          },
          "execution_count": 19
        },
        {
          "output_type": "display_data",
          "data": {
            "image/png": "[encoded data removed]",
            "text/plain": [
              "<Figure size 720x288 with 1 Axes>"
            ]
          },
          "metadata": {
            "tags": []
          }
        }
      ]
    },
    {
      "cell_type": "code",
      "metadata": {
        "id": "U2eyX96tUeSC",
        "colab_type": "code",
        "colab": {
          "base_uri": "https://localhost:8080/",
          "height": 305
        },
        "outputId": "53ca8f74-c4f7-4cfc-ad8b-aeeee42893c5"
      },
      "source": [
        "AAPL['Volume'].plot(legend=True, figsize=(10,4))"
      ],
      "execution_count": 20,
      "outputs": [
        {
          "output_type": "execute_result",
          "data": {
            "text/plain": [
              "<matplotlib.axes._subplots.AxesSubplot at 0x7f176c76fdd8>"
            ]
          },
          "metadata": {
            "tags": []
          },
          "execution_count": 20
        },
        {
          "output_type": "display_data",
          "data": {
            "image/png": "[encoded data removed]",
            "text/plain": [
              "<Figure size 720x288 with 1 Axes>"
            ]
          },
          "metadata": {
            "tags": []
          }
        }
      ]
    },
    {
      "cell_type": "code",
      "metadata": {
        "id": "58cEI5vmV7Kk",
        "colab_type": "code",
        "colab": {}
      },
      "source": [
        "MA_day= [15, 30, 60]\n",
        "for MA in MA_day:\n",
        "  column_name = 'MA for %s days' %(str(MA))\n",
        "\n",
        "  AAPL[column_name] = AAPL['Adj Close'].rolling(MA).mean()"
      ],
      "execution_count": 0,
      "outputs": []
    },
    {
      "cell_type": "code",
      "metadata": {
        "id": "GhafghAVY8j5",
        "colab_type": "code",
        "colab": {
          "base_uri": "https://localhost:8080/",
          "height": 238
        },
        "outputId": "0d2272f0-74e5-48da-bbaf-a2748875d8fa"
      },
      "source": [
        "AAPL['MA for 15 days']"
      ],
      "execution_count": 23,
      "outputs": [
        {
          "output_type": "execute_result",
          "data": {
            "text/plain": [
              "Date\n",
              "2019-04-15           NaN\n",
              "2019-04-16           NaN\n",
              "2019-04-17           NaN\n",
              "2019-04-18           NaN\n",
              "2019-04-22           NaN\n",
              "                 ...    \n",
              "2020-04-07    246.792667\n",
              "2020-04-08    248.086001\n",
              "2020-04-09    249.633333\n",
              "2020-04-13    252.567333\n",
              "2020-04-14    256.745999\n",
              "Name: MA for 15 days, Length: 252, dtype: float64"
            ]
          },
          "metadata": {
            "tags": []
          },
          "execution_count": 23
        }
      ]
    },
    {
      "cell_type": "code",
      "metadata": {
        "id": "Ei1J3fk3ZucR",
        "colab_type": "code",
        "colab": {
          "base_uri": "https://localhost:8080/",
          "height": 136
        },
        "outputId": "7967d8da-fa3d-4f9c-9c30-78aac7394385"
      },
      "source": [
        "new_ma_15 = AAPL['MA for 15 days']\n",
        "new_ma_15.head()"
      ],
      "execution_count": 24,
      "outputs": [
        {
          "output_type": "execute_result",
          "data": {
            "text/plain": [
              "Date\n",
              "2019-04-15   NaN\n",
              "2019-04-16   NaN\n",
              "2019-04-17   NaN\n",
              "2019-04-18   NaN\n",
              "2019-04-22   NaN\n",
              "Name: MA for 15 days, dtype: float64"
            ]
          },
          "metadata": {
            "tags": []
          },
          "execution_count": 24
        }
      ]
    },
    {
      "cell_type": "code",
      "metadata": {
        "id": "vvjgws6MZ-Ci",
        "colab_type": "code",
        "colab": {}
      },
      "source": [
        "new_ma_15.dropna(inplace=True)"
      ],
      "execution_count": 0,
      "outputs": []
    },
    {
      "cell_type": "code",
      "metadata": {
        "id": "wC-6pffIaN_Z",
        "colab_type": "code",
        "colab": {
          "base_uri": "https://localhost:8080/",
          "height": 238
        },
        "outputId": "b086c222-6f34-4c68-8a1c-2a35f2ca59bc"
      },
      "source": [
        "new_ma_15"
      ],
      "execution_count": 26,
      "outputs": [
        {
          "output_type": "execute_result",
          "data": {
            "text/plain": [
              "Date\n",
              "2019-05-06    202.640964\n",
              "2019-05-07    202.879838\n",
              "2019-05-08    203.120027\n",
              "2019-05-09    202.961435\n",
              "2019-05-10    202.571823\n",
              "                 ...    \n",
              "2020-04-07    246.792667\n",
              "2020-04-08    248.086001\n",
              "2020-04-09    249.633333\n",
              "2020-04-13    252.567333\n",
              "2020-04-14    256.745999\n",
              "Name: MA for 15 days, Length: 238, dtype: float64"
            ]
          },
          "metadata": {
            "tags": []
          },
          "execution_count": 26
        }
      ]
    },
    {
      "cell_type": "code",
      "metadata": {
        "id": "F0QDNOEQaQbT",
        "colab_type": "code",
        "colab": {
          "base_uri": "https://localhost:8080/",
          "height": 277
        },
        "outputId": "5d4ef56d-e72a-4fc9-ef0e-b6535e41768d"
      },
      "source": [
        "AAPL[['Adj Close','MA for 15 days', 'MA for 30 days', 'MA for 60 days']].plot(legend=True, figsize=(10,4))"
      ],
      "execution_count": 27,
      "outputs": [
        {
          "output_type": "display_data",
          "data": {
            "image/png": "[encoded data removed]",
            "text/plain": [
              "<Figure size 720x288 with 1 Axes>"
            ]
          },
          "metadata": {
            "tags": []
          }
        }
      ]
    },
    {
      "cell_type": "code",
      "metadata": {
        "id": "XHxQULRZaoVY",
        "colab_type": "code",
        "colab": {
          "base_uri": "https://localhost:8080/",
          "height": 296
        },
        "outputId": "0b9fa54d-f02d-43e2-e1a8-bb293cbfa6a9"
      },
      "source": [
        "AAPL['Daily Return'] = AAPL['Adj Close'].pct_change()\n",
        "sns.distplot(AAPL['Daily Return'].dropna(), bins = 100,color='Blue')"
      ],
      "execution_count": 29,
      "outputs": [
        {
          "output_type": "execute_result",
          "data": {
            "text/plain": [
              "<matplotlib.axes._subplots.AxesSubplot at 0x7f1769452860>"
            ]
          },
          "metadata": {
            "tags": []
          },
          "execution_count": 29
        },
        {
          "output_type": "display_data",
          "data": {
            "image/png": "[encoded data removed]",
            "text/plain": [
              "<Figure size 432x288 with 1 Axes>"
            ]
          },
          "metadata": {
            "tags": []
          }
        }
      ]
    },
    {
      "cell_type": "code",
      "metadata": {
        "id": "y_G43OogdqBt",
        "colab_type": "code",
        "colab": {}
      },
      "source": [
        "closing_df = DataReader(comp_list, 'yahoo', start = start,end= end_date)['Adj Close']"
      ],
      "execution_count": 0,
      "outputs": []
    },
    {
      "cell_type": "code",
      "metadata": {
        "id": "G6I8RdhUeUml",
        "colab_type": "code",
        "colab": {
          "base_uri": "https://localhost:8080/",
          "height": 235
        },
        "outputId": "975a30e7-c1f3-4393-ddd7-bbd91106dee2"
      },
      "source": [
        "closing_df.head()"
      ],
      "execution_count": 32,
      "outputs": [
        {
          "output_type": "execute_result",
          "data": {
            "text/html": [
              "<div>\n",
              "<style scoped>\n",
              "    .dataframe tbody tr th:only-of-type {\n",
              "        vertical-align: middle;\n",
              "    }\n",
              "\n",
              "    .dataframe tbody tr th {\n",
              "        vertical-align: top;\n",
              "    }\n",
              "\n",
              "    .dataframe thead th {\n",
              "        text-align: right;\n",
              "    }\n",
              "</style>\n",
              "<table border=\"1\" class=\"dataframe\">\n",
              "  <thead>\n",
              "    <tr style=\"text-align: right;\">\n",
              "      <th>Symbols</th>\n",
              "      <th>AAPL</th>\n",
              "      <th>GOOG</th>\n",
              "      <th>AMZN</th>\n",
              "      <th>MSFT</th>\n",
              "    </tr>\n",
              "    <tr>\n",
              "      <th>Date</th>\n",
              "      <th></th>\n",
              "      <th></th>\n",
              "      <th></th>\n",
              "      <th></th>\n",
              "    </tr>\n",
              "  </thead>\n",
              "  <tbody>\n",
              "    <tr>\n",
              "      <th>2019-04-15</th>\n",
              "      <td>196.655960</td>\n",
              "      <td>1221.099976</td>\n",
              "      <td>1844.869995</td>\n",
              "      <td>119.469353</td>\n",
              "    </tr>\n",
              "    <tr>\n",
              "      <th>2019-04-16</th>\n",
              "      <td>196.675705</td>\n",
              "      <td>1227.130005</td>\n",
              "      <td>1863.040039</td>\n",
              "      <td>119.193001</td>\n",
              "    </tr>\n",
              "    <tr>\n",
              "      <th>2019-04-17</th>\n",
              "      <td>200.505585</td>\n",
              "      <td>1236.339966</td>\n",
              "      <td>1864.819946</td>\n",
              "      <td>120.179947</td>\n",
              "    </tr>\n",
              "    <tr>\n",
              "      <th>2019-04-18</th>\n",
              "      <td>201.226151</td>\n",
              "      <td>1236.369995</td>\n",
              "      <td>1861.689941</td>\n",
              "      <td>121.759056</td>\n",
              "    </tr>\n",
              "    <tr>\n",
              "      <th>2019-04-22</th>\n",
              "      <td>201.887497</td>\n",
              "      <td>1248.839966</td>\n",
              "      <td>1887.310059</td>\n",
              "      <td>122.143959</td>\n",
              "    </tr>\n",
              "  </tbody>\n",
              "</table>\n",
              "</div>"
            ],
            "text/plain": [
              "Symbols           AAPL         GOOG         AMZN        MSFT\n",
              "Date                                                        \n",
              "2019-04-15  196.655960  1221.099976  1844.869995  119.469353\n",
              "2019-04-16  196.675705  1227.130005  1863.040039  119.193001\n",
              "2019-04-17  200.505585  1236.339966  1864.819946  120.179947\n",
              "2019-04-18  201.226151  1236.369995  1861.689941  121.759056\n",
              "2019-04-22  201.887497  1248.839966  1887.310059  122.143959"
            ]
          },
          "metadata": {
            "tags": []
          },
          "execution_count": 32
        }
      ]
    },
    {
      "cell_type": "code",
      "metadata": {
        "id": "6PSINMvKeqJx",
        "colab_type": "code",
        "colab": {
          "base_uri": "https://localhost:8080/",
          "height": 235
        },
        "outputId": "87c04c59-6b4b-4528-d12e-47f426f085a9"
      },
      "source": [
        "closing_df.tail()"
      ],
      "execution_count": 33,
      "outputs": [
        {
          "output_type": "execute_result",
          "data": {
            "text/html": [
              "<div>\n",
              "<style scoped>\n",
              "    .dataframe tbody tr th:only-of-type {\n",
              "        vertical-align: middle;\n",
              "    }\n",
              "\n",
              "    .dataframe tbody tr th {\n",
              "        vertical-align: top;\n",
              "    }\n",
              "\n",
              "    .dataframe thead th {\n",
              "        text-align: right;\n",
              "    }\n",
              "</style>\n",
              "<table border=\"1\" class=\"dataframe\">\n",
              "  <thead>\n",
              "    <tr style=\"text-align: right;\">\n",
              "      <th>Symbols</th>\n",
              "      <th>AAPL</th>\n",
              "      <th>GOOG</th>\n",
              "      <th>AMZN</th>\n",
              "      <th>MSFT</th>\n",
              "    </tr>\n",
              "    <tr>\n",
              "      <th>Date</th>\n",
              "      <th></th>\n",
              "      <th></th>\n",
              "      <th></th>\n",
              "      <th></th>\n",
              "    </tr>\n",
              "  </thead>\n",
              "  <tbody>\n",
              "    <tr>\n",
              "      <th>2020-04-07</th>\n",
              "      <td>259.429993</td>\n",
              "      <td>1186.510010</td>\n",
              "      <td>2011.599976</td>\n",
              "      <td>163.490005</td>\n",
              "    </tr>\n",
              "    <tr>\n",
              "      <th>2020-04-08</th>\n",
              "      <td>266.070007</td>\n",
              "      <td>1210.280029</td>\n",
              "      <td>2043.000000</td>\n",
              "      <td>165.130005</td>\n",
              "    </tr>\n",
              "    <tr>\n",
              "      <th>2020-04-09</th>\n",
              "      <td>267.989990</td>\n",
              "      <td>1211.449951</td>\n",
              "      <td>2042.760010</td>\n",
              "      <td>165.139999</td>\n",
              "    </tr>\n",
              "    <tr>\n",
              "      <th>2020-04-13</th>\n",
              "      <td>273.250000</td>\n",
              "      <td>1217.560059</td>\n",
              "      <td>2168.870117</td>\n",
              "      <td>165.509995</td>\n",
              "    </tr>\n",
              "    <tr>\n",
              "      <th>2020-04-14</th>\n",
              "      <td>287.049988</td>\n",
              "      <td>1269.229980</td>\n",
              "      <td>2283.320068</td>\n",
              "      <td>173.699997</td>\n",
              "    </tr>\n",
              "  </tbody>\n",
              "</table>\n",
              "</div>"
            ],
            "text/plain": [
              "Symbols           AAPL         GOOG         AMZN        MSFT\n",
              "Date                                                        \n",
              "2020-04-07  259.429993  1186.510010  2011.599976  163.490005\n",
              "2020-04-08  266.070007  1210.280029  2043.000000  165.130005\n",
              "2020-04-09  267.989990  1211.449951  2042.760010  165.139999\n",
              "2020-04-13  273.250000  1217.560059  2168.870117  165.509995\n",
              "2020-04-14  287.049988  1269.229980  2283.320068  173.699997"
            ]
          },
          "metadata": {
            "tags": []
          },
          "execution_count": 33
        }
      ]
    },
    {
      "cell_type": "code",
      "metadata": {
        "id": "UHPl_H7ge2p1",
        "colab_type": "code",
        "colab": {}
      },
      "source": [
        "return_stock = closing_df.pct_change()"
      ],
      "execution_count": 0,
      "outputs": []
    },
    {
      "cell_type": "code",
      "metadata": {
        "id": "eTDWvSBYfIgq",
        "colab_type": "code",
        "colab": {}
      },
      "source": [
        ""
      ],
      "execution_count": 0,
      "outputs": []
    }
  ]
}