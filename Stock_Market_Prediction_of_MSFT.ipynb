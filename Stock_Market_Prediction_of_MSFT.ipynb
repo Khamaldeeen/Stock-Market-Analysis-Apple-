{
  "nbformat": 4,
  "nbformat_minor": 0,
  "metadata": {
    "colab": {
      "name": "Stock Market Prediction of MSFT.ipynb",
      "provenance": [],
      "mount_file_id": "1k2F3Tjakr-Mybl6brGykwTZvvM_3lLeK",
      "authorship_tag": "ABX9TyM+q7+GRbK6IBKj8qifcxDi",
      "include_colab_link": true
    },
    "kernelspec": {
      "name": "python3",
      "display_name": "Python 3"
    }
  },
  "cells": [
    {
      "cell_type": "markdown",
      "metadata": {
        "id": "view-in-github",
        "colab_type": "text"
      },
      "source": [
        "<a href=\"https://colab.research.google.com/github/Khamaldeeen/Stock-Market-Analysis-Apple-/blob/Analytics0.1/Stock_Market_Prediction_of_MSFT.ipynb\" target=\"_parent\"><img src=\"https://colab.research.google.com/assets/colab-badge.svg\" alt=\"Open In Colab\"/></a>"
      ]
    },
    {
      "cell_type": "code",
      "metadata": {
        "id": "9FSOYZ1dFMep",
        "colab_type": "code",
        "colab": {
          "base_uri": "https://localhost:8080/",
          "height": 34
        },
        "outputId": "c8b581de-3689-469a-c9f9-5cf1a50e4e85"
      },
      "source": [
        "import numpy as np\n",
        "import pandas as pd\n",
        "from sklearn.preprocessing import MinMaxScaler\n",
        "from keras.models import Sequential\n",
        "import math\n",
        "from keras.layers import Dense, LSTM"
      ],
      "execution_count": 1,
      "outputs": [
        {
          "output_type": "stream",
          "text": [
            "Using TensorFlow backend.\n"
          ],
          "name": "stderr"
        }
      ]
    },
    {
      "cell_type": "code",
      "metadata": {
        "id": "0XRQQ7lyFmFb",
        "colab_type": "code",
        "colab": {}
      },
      "source": [
        "from pandas_datareader import DataReader"
      ],
      "execution_count": 0,
      "outputs": []
    },
    {
      "cell_type": "code",
      "metadata": {
        "id": "yQUhkDr0Funa",
        "colab_type": "code",
        "colab": {}
      },
      "source": [
        "from datetime import datetime\n",
        "import matplotlib.pyplot as plt"
      ],
      "execution_count": 0,
      "outputs": []
    },
    {
      "cell_type": "code",
      "metadata": {
        "id": "a5WNbhDJGLpp",
        "colab_type": "code",
        "colab": {
          "base_uri": "https://localhost:8080/",
          "height": 235
        },
        "outputId": "81f05e67-cf6b-4cc1-cf56-4edc9d557df9"
      },
      "source": [
        "end = datetime.today()\n",
        "\n",
        "start = end.year - 7\n",
        "\n",
        "MSFT = DataReader('MSFT', 'yahoo', start= start, end = end)\n",
        "MSFT.head()"
      ],
      "execution_count": 8,
      "outputs": [
        {
          "output_type": "execute_result",
          "data": {
            "text/html": [
              "<div>\n",
              "<style scoped>\n",
              "    .dataframe tbody tr th:only-of-type {\n",
              "        vertical-align: middle;\n",
              "    }\n",
              "\n",
              "    .dataframe tbody tr th {\n",
              "        vertical-align: top;\n",
              "    }\n",
              "\n",
              "    .dataframe thead th {\n",
              "        text-align: right;\n",
              "    }\n",
              "</style>\n",
              "<table border=\"1\" class=\"dataframe\">\n",
              "  <thead>\n",
              "    <tr style=\"text-align: right;\">\n",
              "      <th></th>\n",
              "      <th>High</th>\n",
              "      <th>Low</th>\n",
              "      <th>Open</th>\n",
              "      <th>Close</th>\n",
              "      <th>Volume</th>\n",
              "      <th>Adj Close</th>\n",
              "    </tr>\n",
              "    <tr>\n",
              "      <th>Date</th>\n",
              "      <th></th>\n",
              "      <th></th>\n",
              "      <th></th>\n",
              "      <th></th>\n",
              "      <th></th>\n",
              "      <th></th>\n",
              "    </tr>\n",
              "  </thead>\n",
              "  <tbody>\n",
              "    <tr>\n",
              "      <th>2013-01-02</th>\n",
              "      <td>27.730000</td>\n",
              "      <td>27.150000</td>\n",
              "      <td>27.250000</td>\n",
              "      <td>27.620001</td>\n",
              "      <td>52899300.0</td>\n",
              "      <td>23.362539</td>\n",
              "    </tr>\n",
              "    <tr>\n",
              "      <th>2013-01-03</th>\n",
              "      <td>27.650000</td>\n",
              "      <td>27.160000</td>\n",
              "      <td>27.629999</td>\n",
              "      <td>27.250000</td>\n",
              "      <td>48294400.0</td>\n",
              "      <td>23.049566</td>\n",
              "    </tr>\n",
              "    <tr>\n",
              "      <th>2013-01-04</th>\n",
              "      <td>27.340000</td>\n",
              "      <td>26.730000</td>\n",
              "      <td>27.270000</td>\n",
              "      <td>26.740000</td>\n",
              "      <td>52521100.0</td>\n",
              "      <td>22.618179</td>\n",
              "    </tr>\n",
              "    <tr>\n",
              "      <th>2013-01-07</th>\n",
              "      <td>26.879999</td>\n",
              "      <td>26.639999</td>\n",
              "      <td>26.770000</td>\n",
              "      <td>26.690001</td>\n",
              "      <td>37110400.0</td>\n",
              "      <td>22.575893</td>\n",
              "    </tr>\n",
              "    <tr>\n",
              "      <th>2013-01-08</th>\n",
              "      <td>26.790001</td>\n",
              "      <td>26.459999</td>\n",
              "      <td>26.750000</td>\n",
              "      <td>26.549999</td>\n",
              "      <td>44703100.0</td>\n",
              "      <td>22.457466</td>\n",
              "    </tr>\n",
              "  </tbody>\n",
              "</table>\n",
              "</div>"
            ],
            "text/plain": [
              "                 High        Low       Open      Close      Volume  Adj Close\n",
              "Date                                                                         \n",
              "2013-01-02  27.730000  27.150000  27.250000  27.620001  52899300.0  23.362539\n",
              "2013-01-03  27.650000  27.160000  27.629999  27.250000  48294400.0  23.049566\n",
              "2013-01-04  27.340000  26.730000  27.270000  26.740000  52521100.0  22.618179\n",
              "2013-01-07  26.879999  26.639999  26.770000  26.690001  37110400.0  22.575893\n",
              "2013-01-08  26.790001  26.459999  26.750000  26.549999  44703100.0  22.457466"
            ]
          },
          "metadata": {
            "tags": []
          },
          "execution_count": 8
        }
      ]
    },
    {
      "cell_type": "code",
      "metadata": {
        "id": "XxzJpWnpGv_4",
        "colab_type": "code",
        "colab": {
          "base_uri": "https://localhost:8080/",
          "height": 450
        },
        "outputId": "2b2df7d5-5f86-41d9-83ff-4e45c1cdb19d"
      },
      "source": [
        "MSFT"
      ],
      "execution_count": 9,
      "outputs": [
        {
          "output_type": "execute_result",
          "data": {
            "text/html": [
              "<div>\n",
              "<style scoped>\n",
              "    .dataframe tbody tr th:only-of-type {\n",
              "        vertical-align: middle;\n",
              "    }\n",
              "\n",
              "    .dataframe tbody tr th {\n",
              "        vertical-align: top;\n",
              "    }\n",
              "\n",
              "    .dataframe thead th {\n",
              "        text-align: right;\n",
              "    }\n",
              "</style>\n",
              "<table border=\"1\" class=\"dataframe\">\n",
              "  <thead>\n",
              "    <tr style=\"text-align: right;\">\n",
              "      <th></th>\n",
              "      <th>High</th>\n",
              "      <th>Low</th>\n",
              "      <th>Open</th>\n",
              "      <th>Close</th>\n",
              "      <th>Volume</th>\n",
              "      <th>Adj Close</th>\n",
              "    </tr>\n",
              "    <tr>\n",
              "      <th>Date</th>\n",
              "      <th></th>\n",
              "      <th></th>\n",
              "      <th></th>\n",
              "      <th></th>\n",
              "      <th></th>\n",
              "      <th></th>\n",
              "    </tr>\n",
              "  </thead>\n",
              "  <tbody>\n",
              "    <tr>\n",
              "      <th>2013-01-02</th>\n",
              "      <td>27.730000</td>\n",
              "      <td>27.150000</td>\n",
              "      <td>27.250000</td>\n",
              "      <td>27.620001</td>\n",
              "      <td>52899300.0</td>\n",
              "      <td>23.362539</td>\n",
              "    </tr>\n",
              "    <tr>\n",
              "      <th>2013-01-03</th>\n",
              "      <td>27.650000</td>\n",
              "      <td>27.160000</td>\n",
              "      <td>27.629999</td>\n",
              "      <td>27.250000</td>\n",
              "      <td>48294400.0</td>\n",
              "      <td>23.049566</td>\n",
              "    </tr>\n",
              "    <tr>\n",
              "      <th>2013-01-04</th>\n",
              "      <td>27.340000</td>\n",
              "      <td>26.730000</td>\n",
              "      <td>27.270000</td>\n",
              "      <td>26.740000</td>\n",
              "      <td>52521100.0</td>\n",
              "      <td>22.618179</td>\n",
              "    </tr>\n",
              "    <tr>\n",
              "      <th>2013-01-07</th>\n",
              "      <td>26.879999</td>\n",
              "      <td>26.639999</td>\n",
              "      <td>26.770000</td>\n",
              "      <td>26.690001</td>\n",
              "      <td>37110400.0</td>\n",
              "      <td>22.575893</td>\n",
              "    </tr>\n",
              "    <tr>\n",
              "      <th>2013-01-08</th>\n",
              "      <td>26.790001</td>\n",
              "      <td>26.459999</td>\n",
              "      <td>26.750000</td>\n",
              "      <td>26.549999</td>\n",
              "      <td>44703100.0</td>\n",
              "      <td>22.457466</td>\n",
              "    </tr>\n",
              "    <tr>\n",
              "      <th>...</th>\n",
              "      <td>...</td>\n",
              "      <td>...</td>\n",
              "      <td>...</td>\n",
              "      <td>...</td>\n",
              "      <td>...</td>\n",
              "      <td>...</td>\n",
              "    </tr>\n",
              "    <tr>\n",
              "      <th>2020-04-09</th>\n",
              "      <td>167.369995</td>\n",
              "      <td>163.330002</td>\n",
              "      <td>166.360001</td>\n",
              "      <td>165.139999</td>\n",
              "      <td>51431800.0</td>\n",
              "      <td>165.139999</td>\n",
              "    </tr>\n",
              "    <tr>\n",
              "      <th>2020-04-13</th>\n",
              "      <td>165.570007</td>\n",
              "      <td>162.300003</td>\n",
              "      <td>164.350006</td>\n",
              "      <td>165.509995</td>\n",
              "      <td>41905300.0</td>\n",
              "      <td>165.509995</td>\n",
              "    </tr>\n",
              "    <tr>\n",
              "      <th>2020-04-14</th>\n",
              "      <td>173.750000</td>\n",
              "      <td>168.000000</td>\n",
              "      <td>169.000000</td>\n",
              "      <td>173.699997</td>\n",
              "      <td>52874300.0</td>\n",
              "      <td>173.699997</td>\n",
              "    </tr>\n",
              "    <tr>\n",
              "      <th>2020-04-15</th>\n",
              "      <td>173.570007</td>\n",
              "      <td>169.240005</td>\n",
              "      <td>171.199997</td>\n",
              "      <td>171.880005</td>\n",
              "      <td>40940800.0</td>\n",
              "      <td>171.880005</td>\n",
              "    </tr>\n",
              "    <tr>\n",
              "      <th>2020-04-16</th>\n",
              "      <td>177.279999</td>\n",
              "      <td>172.899994</td>\n",
              "      <td>174.300003</td>\n",
              "      <td>177.039993</td>\n",
              "      <td>50168800.0</td>\n",
              "      <td>177.039993</td>\n",
              "    </tr>\n",
              "  </tbody>\n",
              "</table>\n",
              "<p>1835 rows × 6 columns</p>\n",
              "</div>"
            ],
            "text/plain": [
              "                  High         Low  ...      Volume   Adj Close\n",
              "Date                                ...                        \n",
              "2013-01-02   27.730000   27.150000  ...  52899300.0   23.362539\n",
              "2013-01-03   27.650000   27.160000  ...  48294400.0   23.049566\n",
              "2013-01-04   27.340000   26.730000  ...  52521100.0   22.618179\n",
              "2013-01-07   26.879999   26.639999  ...  37110400.0   22.575893\n",
              "2013-01-08   26.790001   26.459999  ...  44703100.0   22.457466\n",
              "...                ...         ...  ...         ...         ...\n",
              "2020-04-09  167.369995  163.330002  ...  51431800.0  165.139999\n",
              "2020-04-13  165.570007  162.300003  ...  41905300.0  165.509995\n",
              "2020-04-14  173.750000  168.000000  ...  52874300.0  173.699997\n",
              "2020-04-15  173.570007  169.240005  ...  40940800.0  171.880005\n",
              "2020-04-16  177.279999  172.899994  ...  50168800.0  177.039993\n",
              "\n",
              "[1835 rows x 6 columns]"
            ]
          },
          "metadata": {
            "tags": []
          },
          "execution_count": 9
        }
      ]
    },
    {
      "cell_type": "code",
      "metadata": {
        "id": "bFEqRzn4Hh_8",
        "colab_type": "code",
        "colab": {
          "base_uri": "https://localhost:8080/",
          "height": 303
        },
        "outputId": "05786a89-eda6-4fd8-cdf9-8feb2ce838fc"
      },
      "source": [
        "plt.figure(figsize=(10,4))\n",
        "plt.title('Microsoft Stock Closing Price')\n",
        "plt.ylabel('Closing Price', fontsize=18)\n",
        "plt.xlabel('Date', fontsize=18)\n",
        "plt.plot(MSFT['Close'])\n",
        "plt.show()"
      ],
      "execution_count": 13,
      "outputs": [
        {
          "output_type": "display_data",
          "data": {
            "image/png": "[encoded data removed]",
            "text/plain": [
              "<Figure size 720x288 with 1 Axes>"
            ]
          },
          "metadata": {
            "tags": []
          }
        }
      ]
    },
    {
      "cell_type": "code",
      "metadata": {
        "id": "yyXvPWfJIUk7",
        "colab_type": "code",
        "colab": {}
      },
      "source": [
        "import seaborn as sns\n",
        "sns.set_style('whitegrid')"
      ],
      "execution_count": 0,
      "outputs": []
    },
    {
      "cell_type": "code",
      "metadata": {
        "id": "SlL5FbOlIcuF",
        "colab_type": "code",
        "colab": {}
      },
      "source": [
        "cls = MSFT.filter(['Close'], axis=1)"
      ],
      "execution_count": 0,
      "outputs": []
    },
    {
      "cell_type": "code",
      "metadata": {
        "id": "QTihcTxsIzR-",
        "colab_type": "code",
        "colab": {}
      },
      "source": [
        "cls = cls.values"
      ],
      "execution_count": 0,
      "outputs": []
    },
    {
      "cell_type": "code",
      "metadata": {
        "id": "86CPMVDPIz-8",
        "colab_type": "code",
        "colab": {}
      },
      "source": [
        "cls_train_val = math.ceil(len(cls) * 0.8)"
      ],
      "execution_count": 0,
      "outputs": []
    },
    {
      "cell_type": "code",
      "metadata": {
        "id": "wDF4TzDMLF4J",
        "colab_type": "code",
        "colab": {
          "base_uri": "https://localhost:8080/",
          "height": 34
        },
        "outputId": "a5d37971-18e4-4e9b-f038-bb793efa1afd"
      },
      "source": [
        "cls_train_val"
      ],
      "execution_count": 31,
      "outputs": [
        {
          "output_type": "execute_result",
          "data": {
            "text/plain": [
              "1468"
            ]
          },
          "metadata": {
            "tags": []
          },
          "execution_count": 31
        }
      ]
    },
    {
      "cell_type": "code",
      "metadata": {
        "id": "ff1DjCXYLe-3",
        "colab_type": "code",
        "colab": {
          "base_uri": "https://localhost:8080/",
          "height": 136
        },
        "outputId": "521e4c18-a00c-4e11-aa59-097a2df2cf4f"
      },
      "source": [
        "scaler = MinMaxScaler(feature_range=(0, 1))\n",
        "scaled_data = scaler.fit_transform(cls)\n",
        "\n",
        "scaled_data"
      ],
      "execution_count": 33,
      "outputs": [
        {
          "output_type": "execute_result",
          "data": {
            "text/plain": [
              "array([[0.00714991],\n",
              "       [0.00486934],\n",
              "       [0.00172584],\n",
              "       ...,\n",
              "       [0.90754438],\n",
              "       [0.89632648],\n",
              "       [0.92813114]])"
            ]
          },
          "metadata": {
            "tags": []
          },
          "execution_count": 33
        }
      ]
    },
    {
      "cell_type": "code",
      "metadata": {
        "id": "Vj5awY8yMZlu",
        "colab_type": "code",
        "colab": {
          "base_uri": "https://localhost:8080/",
          "height": 255
        },
        "outputId": "1626719c-b3cd-4d84-c012-3bb88df12ba0"
      },
      "source": [
        "train_data = scaled_data[0:cls_train_val, :]\n",
        "\n",
        "x_train = []\n",
        "y_train = []\n",
        "\n",
        "for i in range(60, cls_train_val):\n",
        "  x_train.append(train_data[i-60:i, 0])\n",
        "  y_train.append(train_data[i, 0])\n",
        "  if i <= 60:\n",
        "    print(x_train)\n",
        "    print(y_train)\n",
        "    print()"
      ],
      "execution_count": 43,
      "outputs": [
        {
          "output_type": "stream",
          "text": [
            "[array([0.00714991, 0.00486934, 0.00172584, 0.00141766, 0.00055473,\n",
            "       0.0014793 , 0.        , 0.00228058, 0.0026504 , 0.00462278,\n",
            "       0.00357496, 0.00486934, 0.00486934, 0.00425296, 0.00708827,\n",
            "       0.00721154, 0.00875247, 0.00893738, 0.00955375, 0.00856756,\n",
            "       0.00610208, 0.00906066, 0.00604044, 0.00641026, 0.00542407,\n",
            "       0.00505425, 0.00671844, 0.0086292 , 0.00875247, 0.00967703,\n",
            "       0.00973867, 0.00955375, 0.0098003 , 0.00869084, 0.00634862,\n",
            "       0.00801283, 0.00560899, 0.00560899, 0.00832101, 0.00825937,\n",
            "       0.00918394, 0.01041667, 0.01164942, 0.01004685, 0.01035503,\n",
            "       0.00949212, 0.00869084, 0.00893738, 0.00899902, 0.01035503,\n",
            "       0.00973867, 0.01010849, 0.01060159, 0.0114645 , 0.01017013,\n",
            "       0.01103304, 0.01047831, 0.01047831, 0.01177269, 0.01325198])]\n",
            "[0.0132519819661501]\n",
            "\n"
          ],
          "name": "stdout"
        }
      ]
    },
    {
      "cell_type": "code",
      "metadata": {
        "id": "glV7yhziOPwm",
        "colab_type": "code",
        "colab": {
          "base_uri": "https://localhost:8080/",
          "height": 34
        },
        "outputId": "a3a732dc-bdd1-4e6e-afbf-2c1e54a40b9e"
      },
      "source": [
        "scaled_data.shape"
      ],
      "execution_count": 44,
      "outputs": [
        {
          "output_type": "execute_result",
          "data": {
            "text/plain": [
              "(1835, 1)"
            ]
          },
          "metadata": {
            "tags": []
          },
          "execution_count": 44
        }
      ]
    },
    {
      "cell_type": "code",
      "metadata": {
        "id": "XfTNueu8PeMs",
        "colab_type": "code",
        "colab": {
          "base_uri": "https://localhost:8080/",
          "height": 34
        },
        "outputId": "b599049e-50fc-49a8-e25b-a1db6c841d98"
      },
      "source": [
        "len(x_train)"
      ],
      "execution_count": 45,
      "outputs": [
        {
          "output_type": "execute_result",
          "data": {
            "text/plain": [
              "1408"
            ]
          },
          "metadata": {
            "tags": []
          },
          "execution_count": 45
        }
      ]
    },
    {
      "cell_type": "code",
      "metadata": {
        "id": "Jfwxr2T1PpLg",
        "colab_type": "code",
        "colab": {
          "base_uri": "https://localhost:8080/",
          "height": 34
        },
        "outputId": "c1a2aea8-3bec-47b7-8ce6-a9881d436d19"
      },
      "source": [
        "len(y_train)"
      ],
      "execution_count": 46,
      "outputs": [
        {
          "output_type": "execute_result",
          "data": {
            "text/plain": [
              "1408"
            ]
          },
          "metadata": {
            "tags": []
          },
          "execution_count": 46
        }
      ]
    },
    {
      "cell_type": "code",
      "metadata": {
        "id": "fnpEZxCzOjL0",
        "colab_type": "code",
        "colab": {}
      },
      "source": [
        "x_train, y_train = np.array(x_train), np.array(y_train)"
      ],
      "execution_count": 0,
      "outputs": []
    },
    {
      "cell_type": "code",
      "metadata": {
        "id": "4EK0k5zUPdeU",
        "colab_type": "code",
        "colab": {}
      },
      "source": [
        ""
      ],
      "execution_count": 0,
      "outputs": []
    },
    {
      "cell_type": "code",
      "metadata": {
        "id": "GkdVjr0oOuT6",
        "colab_type": "code",
        "colab": {
          "base_uri": "https://localhost:8080/",
          "height": 34
        },
        "outputId": "92163bd4-8498-4258-c091-d0c6f93a89d9"
      },
      "source": [
        "x_train.shape"
      ],
      "execution_count": 48,
      "outputs": [
        {
          "output_type": "execute_result",
          "data": {
            "text/plain": [
              "(1408, 60)"
            ]
          },
          "metadata": {
            "tags": []
          },
          "execution_count": 48
        }
      ]
    },
    {
      "cell_type": "code",
      "metadata": {
        "id": "HLIvSW1mPTPU",
        "colab_type": "code",
        "colab": {
          "base_uri": "https://localhost:8080/",
          "height": 238
        },
        "outputId": "8a5b3e9a-9618-44e2-aaa0-d1ad26d90648"
      },
      "source": [
        "x_train"
      ],
      "execution_count": 49,
      "outputs": [
        {
          "output_type": "execute_result",
          "data": {
            "text/plain": [
              "array([[0.00714991, 0.00486934, 0.00172584, ..., 0.01047831, 0.01177269,\n",
              "        0.01325198],\n",
              "       [0.00486934, 0.00172584, 0.00141766, ..., 0.01177269, 0.01325198,\n",
              "        0.01325198],\n",
              "       [0.00172584, 0.00141766, 0.00055473, ..., 0.01325198, 0.01325198,\n",
              "        0.01442308],\n",
              "       ...,\n",
              "       [0.49198718, 0.49993837, 0.50283532, ..., 0.5126356 , 0.50320513,\n",
              "        0.46757891],\n",
              "       [0.49993837, 0.50283532, 0.50339003, ..., 0.50320513, 0.46757891,\n",
              "        0.5044379 ],\n",
              "       [0.50283532, 0.50339003, 0.50801282, ..., 0.46757891, 0.5044379 ,\n",
              "        0.49617851]])"
            ]
          },
          "metadata": {
            "tags": []
          },
          "execution_count": 49
        }
      ]
    },
    {
      "cell_type": "code",
      "metadata": {
        "id": "XPSf5h__SiCi",
        "colab_type": "code",
        "colab": {
          "base_uri": "https://localhost:8080/",
          "height": 34
        },
        "outputId": "6336cffa-49bc-4eb3-e33d-2efb829b4067"
      },
      "source": [
        "x_train = np.reshape(x_train, (x_train.shape[0], x_train.shape[1], 1))\n",
        "x_train.shape"
      ],
      "execution_count": 51,
      "outputs": [
        {
          "output_type": "execute_result",
          "data": {
            "text/plain": [
              "(1408, 60, 1)"
            ]
          },
          "metadata": {
            "tags": []
          },
          "execution_count": 51
        }
      ]
    },
    {
      "cell_type": "code",
      "metadata": {
        "id": "frSpNGX9TO9b",
        "colab_type": "code",
        "colab": {}
      },
      "source": [
        "model = Sequential()\n",
        "model.add(LSTM(50, return_sequences=True, input_shape=(x_train.shape[1], 1)))\n",
        "model.add(LSTM(50, return_sequences=False))\n",
        "model.add(Dense(25))\n",
        "model.add(Dense(1))"
      ],
      "execution_count": 0,
      "outputs": []
    },
    {
      "cell_type": "code",
      "metadata": {
        "id": "qIoPX-q4Vnoc",
        "colab_type": "code",
        "colab": {}
      },
      "source": [
        "model.compile(optimizer='adam', loss='mean_squared_error')"
      ],
      "execution_count": 0,
      "outputs": []
    },
    {
      "cell_type": "code",
      "metadata": {
        "id": "UJilr2XQWLhm",
        "colab_type": "code",
        "colab": {
          "base_uri": "https://localhost:8080/",
          "height": 68
        },
        "outputId": "37ca39b3-3584-4789-aa2b-4e5cff26d30d"
      },
      "source": [
        "model.fit(x_train, y_train, batch_size=1, epochs=1)"
      ],
      "execution_count": 55,
      "outputs": [
        {
          "output_type": "stream",
          "text": [
            "Epoch 1/1\n",
            "1408/1408 [==============================] - 54s 38ms/step - loss: 8.2034e-04\n"
          ],
          "name": "stdout"
        },
        {
          "output_type": "execute_result",
          "data": {
            "text/plain": [
              "<keras.callbacks.callbacks.History at 0x7ffad7ecc390>"
            ]
          },
          "metadata": {
            "tags": []
          },
          "execution_count": 55
        }
      ]
    },
    {
      "cell_type": "code",
      "metadata": {
        "id": "3Hc4DIV_WYGu",
        "colab_type": "code",
        "colab": {
          "base_uri": "https://localhost:8080/",
          "height": 34
        },
        "outputId": "14040eb2-5d66-4650-e09e-067e0730ece7"
      },
      "source": [
        "cls.shape"
      ],
      "execution_count": 56,
      "outputs": [
        {
          "output_type": "execute_result",
          "data": {
            "text/plain": [
              "(1835, 1)"
            ]
          },
          "metadata": {
            "tags": []
          },
          "execution_count": 56
        }
      ]
    },
    {
      "cell_type": "code",
      "metadata": {
        "id": "PlP0EdL6W12d",
        "colab_type": "code",
        "colab": {}
      },
      "source": [
        "test_data = scaled_data[cls_train_val - 60 :, :]\n",
        "\n",
        "x_test = []\n",
        "y_test = cls[cls_train_val :, :]\n",
        "\n",
        "for i in range(60, len(test_data)):\n",
        "  x_test.append(test_data[i - 60:i, :])\n"
      ],
      "execution_count": 0,
      "outputs": []
    },
    {
      "cell_type": "code",
      "metadata": {
        "id": "0aD3Ovy_ZR8O",
        "colab_type": "code",
        "colab": {
          "base_uri": "https://localhost:8080/",
          "height": 34
        },
        "outputId": "738f7fea-ab46-45fe-90fc-3227804f4ecb"
      },
      "source": [
        "len(x_test)"
      ],
      "execution_count": 80,
      "outputs": [
        {
          "output_type": "execute_result",
          "data": {
            "text/plain": [
              "367"
            ]
          },
          "metadata": {
            "tags": []
          },
          "execution_count": 80
        }
      ]
    },
    {
      "cell_type": "code",
      "metadata": {
        "id": "Aq6IdPKrZTqJ",
        "colab_type": "code",
        "colab": {}
      },
      "source": [
        "x_test = np.array(x_test)"
      ],
      "execution_count": 0,
      "outputs": []
    },
    {
      "cell_type": "code",
      "metadata": {
        "id": "vDZ16V_ugesm",
        "colab_type": "code",
        "colab": {
          "base_uri": "https://localhost:8080/",
          "height": 34
        },
        "outputId": "84831161-925d-416b-edb5-a36c7c24b837"
      },
      "source": [
        "x_test.shape"
      ],
      "execution_count": 82,
      "outputs": [
        {
          "output_type": "execute_result",
          "data": {
            "text/plain": [
              "(367, 60, 1)"
            ]
          },
          "metadata": {
            "tags": []
          },
          "execution_count": 82
        }
      ]
    },
    {
      "cell_type": "code",
      "metadata": {
        "id": "sQIMoS2xgrr2",
        "colab_type": "code",
        "colab": {}
      },
      "source": [
        "x_test = np.reshape(x_test, (x_test.shape[0], x_test.shape[1] , 1))"
      ],
      "execution_count": 0,
      "outputs": []
    },
    {
      "cell_type": "code",
      "metadata": {
        "id": "6JyyNyS-g8DE",
        "colab_type": "code",
        "colab": {
          "base_uri": "https://localhost:8080/",
          "height": 34
        },
        "outputId": "3092e338-ffef-4dc2-d314-3c6bf03e0094"
      },
      "source": [
        "x_test.shape"
      ],
      "execution_count": 84,
      "outputs": [
        {
          "output_type": "execute_result",
          "data": {
            "text/plain": [
              "(367, 60, 1)"
            ]
          },
          "metadata": {
            "tags": []
          },
          "execution_count": 84
        }
      ]
    },
    {
      "cell_type": "code",
      "metadata": {
        "id": "gcOFwPvPhYrD",
        "colab_type": "code",
        "colab": {}
      },
      "source": [
        "predictions = model.predict(x_test)\n",
        "predictions = scaler.inverse_transform(predictions)\n"
      ],
      "execution_count": 0,
      "outputs": []
    },
    {
      "cell_type": "code",
      "metadata": {
        "id": "kyZqcxTRhvTW",
        "colab_type": "code",
        "colab": {
          "base_uri": "https://localhost:8080/",
          "height": 34
        },
        "outputId": "09c4afbb-53e3-435f-d27e-2d4ee1f3f58c"
      },
      "source": [
        "rmse = np.sqrt(np.mean(predictions - y_test)**2)\n",
        "rmse"
      ],
      "execution_count": 87,
      "outputs": [
        {
          "output_type": "execute_result",
          "data": {
            "text/plain": [
              "7.000517717823995"
            ]
          },
          "metadata": {
            "tags": []
          },
          "execution_count": 87
        }
      ]
    },
    {
      "cell_type": "code",
      "metadata": {
        "id": "tMNri-WdiUcW",
        "colab_type": "code",
        "colab": {
          "base_uri": "https://localhost:8080/",
          "height": 139
        },
        "outputId": "7d86cca4-4ef2-475e-b8c4-247ec817c8de"
      },
      "source": [
        "new_data = MSFT.filter(['Close'])\n",
        "train = new_data[:cls_train_val]\n",
        "valid = new_data[cls_train_val:]\n",
        "valid['Predictions'] = predictions"
      ],
      "execution_count": 93,
      "outputs": [
        {
          "output_type": "stream",
          "text": [
            "/usr/local/lib/python3.6/dist-packages/ipykernel_launcher.py:4: SettingWithCopyWarning: \n",
            "A value is trying to be set on a copy of a slice from a DataFrame.\n",
            "Try using .loc[row_indexer,col_indexer] = value instead\n",
            "\n",
            "See the caveats in the documentation: https://pandas.pydata.org/pandas-docs/stable/user_guide/indexing.html#returning-a-view-versus-a-copy\n",
            "  after removing the cwd from sys.path.\n"
          ],
          "name": "stderr"
        }
      ]
    },
    {
      "cell_type": "code",
      "metadata": {
        "id": "IpxMFOEdk-50",
        "colab_type": "code",
        "colab": {
          "base_uri": "https://localhost:8080/",
          "height": 450
        },
        "outputId": "bdf5b686-c1a6-4353-c99d-d49396bc507b"
      },
      "source": [
        "valid"
      ],
      "execution_count": 94,
      "outputs": [
        {
          "output_type": "execute_result",
          "data": {
            "text/html": [
              "<div>\n",
              "<style scoped>\n",
              "    .dataframe tbody tr th:only-of-type {\n",
              "        vertical-align: middle;\n",
              "    }\n",
              "\n",
              "    .dataframe tbody tr th {\n",
              "        vertical-align: top;\n",
              "    }\n",
              "\n",
              "    .dataframe thead th {\n",
              "        text-align: right;\n",
              "    }\n",
              "</style>\n",
              "<table border=\"1\" class=\"dataframe\">\n",
              "  <thead>\n",
              "    <tr style=\"text-align: right;\">\n",
              "      <th></th>\n",
              "      <th>Close</th>\n",
              "      <th>Predictions</th>\n",
              "    </tr>\n",
              "    <tr>\n",
              "      <th>Date</th>\n",
              "      <th></th>\n",
              "      <th></th>\n",
              "    </tr>\n",
              "  </thead>\n",
              "  <tbody>\n",
              "    <tr>\n",
              "      <th>2018-10-30</th>\n",
              "      <td>103.730003</td>\n",
              "      <td>105.166542</td>\n",
              "    </tr>\n",
              "    <tr>\n",
              "      <th>2018-10-31</th>\n",
              "      <td>106.809998</td>\n",
              "      <td>104.672829</td>\n",
              "    </tr>\n",
              "    <tr>\n",
              "      <th>2018-11-01</th>\n",
              "      <td>105.919998</td>\n",
              "      <td>104.363914</td>\n",
              "    </tr>\n",
              "    <tr>\n",
              "      <th>2018-11-02</th>\n",
              "      <td>106.160004</td>\n",
              "      <td>104.128220</td>\n",
              "    </tr>\n",
              "    <tr>\n",
              "      <th>2018-11-05</th>\n",
              "      <td>107.510002</td>\n",
              "      <td>103.968513</td>\n",
              "    </tr>\n",
              "    <tr>\n",
              "      <th>...</th>\n",
              "      <td>...</td>\n",
              "      <td>...</td>\n",
              "    </tr>\n",
              "    <tr>\n",
              "      <th>2020-04-09</th>\n",
              "      <td>165.139999</td>\n",
              "      <td>147.074707</td>\n",
              "    </tr>\n",
              "    <tr>\n",
              "      <th>2020-04-13</th>\n",
              "      <td>165.509995</td>\n",
              "      <td>148.305450</td>\n",
              "    </tr>\n",
              "    <tr>\n",
              "      <th>2020-04-14</th>\n",
              "      <td>173.699997</td>\n",
              "      <td>149.431061</td>\n",
              "    </tr>\n",
              "    <tr>\n",
              "      <th>2020-04-15</th>\n",
              "      <td>171.880005</td>\n",
              "      <td>150.889282</td>\n",
              "    </tr>\n",
              "    <tr>\n",
              "      <th>2020-04-16</th>\n",
              "      <td>177.039993</td>\n",
              "      <td>152.308105</td>\n",
              "    </tr>\n",
              "  </tbody>\n",
              "</table>\n",
              "<p>367 rows × 2 columns</p>\n",
              "</div>"
            ],
            "text/plain": [
              "                 Close  Predictions\n",
              "Date                               \n",
              "2018-10-30  103.730003   105.166542\n",
              "2018-10-31  106.809998   104.672829\n",
              "2018-11-01  105.919998   104.363914\n",
              "2018-11-02  106.160004   104.128220\n",
              "2018-11-05  107.510002   103.968513\n",
              "...                ...          ...\n",
              "2020-04-09  165.139999   147.074707\n",
              "2020-04-13  165.509995   148.305450\n",
              "2020-04-14  173.699997   149.431061\n",
              "2020-04-15  171.880005   150.889282\n",
              "2020-04-16  177.039993   152.308105\n",
              "\n",
              "[367 rows x 2 columns]"
            ]
          },
          "metadata": {
            "tags": []
          },
          "execution_count": 94
        }
      ]
    },
    {
      "cell_type": "code",
      "metadata": {
        "id": "yys60UfjlGEY",
        "colab_type": "code",
        "colab": {}
      },
      "source": [
        ""
      ],
      "execution_count": 0,
      "outputs": []
    }
  ]
}